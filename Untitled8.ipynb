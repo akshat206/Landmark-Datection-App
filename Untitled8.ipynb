{
  "nbformat": 4,
  "nbformat_minor": 0,
  "metadata": {
    "colab": {
      "name": "Untitled8.ipynb",
      "provenance": [],
      "collapsed_sections": [],
      "authorship_tag": "ABX9TyMViYT3jW/oTq3cdHmfBCZ3",
      "include_colab_link": true
    },
    "kernelspec": {
      "name": "python3",
      "display_name": "Python 3"
    },
    "language_info": {
      "name": "python"
    }
  },
  "cells": [
    {
      "cell_type": "markdown",
      "metadata": {
        "id": "view-in-github",
        "colab_type": "text"
      },
      "source": [
        "<a href=\"https://colab.research.google.com/github/akshat206/Landmark-Datection-App/blob/main/Untitled8.ipynb\" target=\"_parent\"><img src=\"https://colab.research.google.com/assets/colab-badge.svg\" alt=\"Open In Colab\"/></a>"
      ]
    },
    {
      "cell_type": "code",
      "execution_count": 2,
      "metadata": {
        "colab": {
          "base_uri": "https://localhost:8080/"
        },
        "id": "3QviiyaM3cfP",
        "outputId": "ff912147-3eb2-4dd6-b760-f7ae6069ccfd"
      },
      "outputs": [
        {
          "output_type": "stream",
          "name": "stdout",
          "text": [
            "Cloning into 'LandMark_Detection'...\n",
            "remote: Enumerating objects: 20, done.\u001b[K\n",
            "remote: Counting objects: 100% (20/20), done.\u001b[K\n",
            "remote: Compressing objects: 100% (18/18), done.\u001b[K\n",
            "remote: Total 20 (delta 7), reused 12 (delta 2), pack-reused 0\u001b[K\n",
            "Unpacking objects: 100% (20/20), done.\n"
          ]
        }
      ],
      "source": [
        "! git clone https://github.com/Spidy20/LandMark_Detection"
      ]
    },
    {
      "cell_type": "code",
      "source": [
        "!pip install -q streamlit"
      ],
      "metadata": {
        "id": "7we2OFqr30hR"
      },
      "execution_count": 38,
      "outputs": []
    },
    {
      "cell_type": "code",
      "source": [
        " !./ngrok authtoken  2BFOjkTwBeTjTOakC7xKacidF8l_3mV1orembUUxwet3pREB7"
      ],
      "metadata": {
        "id": "ar14hmY18u5U",
        "outputId": "72b36f73-95ce-4df8-a71b-1cfa44cc39b1",
        "colab": {
          "base_uri": "https://localhost:8080/"
        }
      },
      "execution_count": 83,
      "outputs": [
        {
          "output_type": "stream",
          "name": "stdout",
          "text": [
            "Authtoken saved to configuration file: /root/.ngrok2/ngrok.yml\n"
          ]
        }
      ]
    },
    {
      "cell_type": "code",
      "source": [
        "!pip install pyngrok "
      ],
      "metadata": {
        "id": "JN0BWzTI8u_h",
        "outputId": "262f9143-3c7d-4b1c-f867-136fff29cd47",
        "colab": {
          "base_uri": "https://localhost:8080/"
        }
      },
      "execution_count": 75,
      "outputs": [
        {
          "output_type": "stream",
          "name": "stdout",
          "text": [
            "Looking in indexes: https://pypi.org/simple, https://us-python.pkg.dev/colab-wheels/public/simple/\n",
            "Requirement already satisfied: pyngrok in /usr/local/lib/python3.7/dist-packages (5.1.0)\n",
            "Requirement already satisfied: PyYAML in /usr/local/lib/python3.7/dist-packages (from pyngrok) (3.13)\n"
          ]
        }
      ]
    },
    {
      "cell_type": "code",
      "source": [
        "from pyngrok import ngrok \n",
        "public_url = ngrok.connect(port='3000')\n",
        "public_url"
      ],
      "metadata": {
        "colab": {
          "base_uri": "https://localhost:8080/"
        },
        "id": "iFddfdMt4mBj",
        "outputId": "dc054288-ddfe-4435-ea5c-787dbec10816"
      },
      "execution_count": 89,
      "outputs": [
        {
          "output_type": "stream",
          "name": "stderr",
          "text": [
            "2022-06-29 11:08:29.301 Opening tunnel named: http-80-84c67546-c51e-4bc9-b4ab-368e326d686e\n",
            "2022-06-29 11:08:29.372 t=2022-06-29T11:08:29+0000 lvl=info msg=\"no configuration paths supplied\"\n",
            "2022-06-29 11:08:29.375 t=2022-06-29T11:08:29+0000 lvl=info msg=\"using configuration at default config path\" path=/root/.ngrok2/ngrok.yml\n",
            "2022-06-29 11:08:29.381 t=2022-06-29T11:08:29+0000 lvl=info msg=\"open config file\" path=/root/.ngrok2/ngrok.yml err=nil\n",
            "2022-06-29 11:08:29.393 t=2022-06-29T11:08:29+0000 lvl=info msg=\"starting web service\" obj=web addr=127.0.0.1:4040\n",
            "2022-06-29 11:08:29.714 t=2022-06-29T11:08:29+0000 lvl=info msg=\"tunnel session started\" obj=tunnels.session\n",
            "2022-06-29 11:08:29.721 t=2022-06-29T11:08:29+0000 lvl=info msg=\"client session established\" obj=csess id=eb61ad9b2389\n",
            "2022-06-29 11:08:29.735 t=2022-06-29T11:08:29+0000 lvl=info msg=start pg=/api/tunnels id=b59f95193ee66eca\n",
            "2022-06-29 11:08:29.744 t=2022-06-29T11:08:29+0000 lvl=info msg=end pg=/api/tunnels id=b59f95193ee66eca status=200 dur=412.531µs\n",
            "2022-06-29 11:08:29.749 t=2022-06-29T11:08:29+0000 lvl=info msg=start pg=/api/tunnels id=2fae9706c77c019b\n",
            "2022-06-29 11:08:29.760 t=2022-06-29T11:08:29+0000 lvl=info msg=end pg=/api/tunnels id=2fae9706c77c019b status=200 dur=162.976µs\n",
            "2022-06-29 11:08:29.767 t=2022-06-29T11:08:29+0000 lvl=info msg=start pg=/api/tunnels id=0f5da1c023a28a30\n",
            "2022-06-29 11:08:29.965 t=2022-06-29T11:08:29+0000 lvl=info msg=\"started tunnel\" obj=tunnels name=\"http-80-84c67546-c51e-4bc9-b4ab-368e326d686e (http)\" addr=http://localhost:80 url=http://4cf1-34-91-216-116.ngrok.io\n",
            "2022-06-29 11:08:29.971 t=2022-06-29T11:08:29+0000 lvl=info msg=\"started tunnel\" obj=tunnels name=http-80-84c67546-c51e-4bc9-b4ab-368e326d686e addr=http://localhost:80 url=https://4cf1-34-91-216-116.ngrok.io\n"
          ]
        },
        {
          "output_type": "execute_result",
          "data": {
            "text/plain": [
              "<NgrokTunnel: \"http://4cf1-34-91-216-116.ngrok.io\" -> \"http://localhost:80\">"
            ]
          },
          "metadata": {},
          "execution_count": 89
        },
        {
          "output_type": "stream",
          "name": "stderr",
          "text": [
            "2022-06-29 11:08:29.982 t=2022-06-29T11:08:29+0000 lvl=info msg=end pg=/api/tunnels id=0f5da1c023a28a30 status=201 dur=223.39515ms\n",
            "2022-06-29 11:08:29.993 t=2022-06-29T11:08:29+0000 lvl=info msg=start pg=\"/api/tunnels/http-80-84c67546-c51e-4bc9-b4ab-368e326d686e (http)\" id=919158d237161f3e\n",
            "2022-06-29 11:08:30.000 t=2022-06-29T11:08:29+0000 lvl=info msg=end pg=\"/api/tunnels/http-80-84c67546-c51e-4bc9-b4ab-368e326d686e (http)\" id=919158d237161f3e status=200 dur=177.987µs\n"
          ]
        }
      ]
    },
    {
      "cell_type": "code",
      "source": [
        "%%writefile streamlit_app.py \n",
        "import streamlit as st \n",
        "st.markdown(\"\"\" This is a Streamlit App \"\"\")\n",
        "import streamlit as st\n",
        "import PIL\n",
        "import tensorflow as tf\n",
        "import tensorflow_hub as hub\n",
        "import numpy as np\n",
        "import pandas as pd\n",
        "from geopy.geocoders import Nominatim\n",
        "\n",
        "model_url = 'https://tfhub.dev/google/on_device_vision/classifier/landmarks_classifier_asia_V1/1'\n",
        "# model_url = 'on_device_vision_classifier_landmarks_classifier_asia_V1_1'\n",
        "\n",
        "# label_url = 'https://www.gstatic.com/aihub/tfhub/labelmaps/landmarks_classifier_asia_V1_label_map.csv'\n",
        "labels = '/content/LandMark_Detection/landmarks_classifier_asia_V1_label_map.csv'\n",
        "df = pd.read_csv(labels)\n",
        "labels = dict(zip(df.id, df.name))\n",
        "\n",
        "def image_processing(image):\n",
        "    img_shape = (321, 321)\n",
        "    classifier = tf.keras.Sequential(\n",
        "        [hub.KerasLayer(model_url, input_shape=img_shape + (3,), output_key=\"predictions:logits\")])\n",
        "    img = PIL.Image.open(image)\n",
        "    img = img.resize(img_shape)\n",
        "    img1 = img\n",
        "    img = np.array(img) / 255.0\n",
        "    img = img[np.newaxis]\n",
        "    result = classifier.predict(img)\n",
        "    return labels[np.argmax(result)],img1\n",
        "\n",
        "def get_map(loc):\n",
        "    geolocator = Nominatim(user_agent=\"Your_Name\")\n",
        "    location = geolocator.geocode(loc)\n",
        "    return location.address,location.latitude, location.longitude\n",
        "\n",
        "def run():\n",
        "    st.title(\"Landmark Recognition\")\n",
        "    img = PIL.Image.open('/content/LandMark_Detection/logo.png')\n",
        "    img = img.resize((256,256))\n",
        "    st.image(img)\n",
        "    img_file = st.file_uploader(\"Choose your Image\", type=['png', 'jpg'])\n",
        "    if img_file is not None:\n",
        "        save_image_path = './Uploaded_Images/' + img_file.name\n",
        "        with open(save_image_path, \"wb\") as f:\n",
        "            f.write(img_file.getbuffer())\n",
        "        prediction,image = image_processing(save_image_path)\n",
        "        st.image(image)\n",
        "        st.header(\"📍 **Predicted Landmark is: \" + prediction + '**')\n",
        "        try:\n",
        "            address, latitude, longitude = get_map(prediction)\n",
        "            st.success('Address: '+address )\n",
        "            loc_dict = {'Latitude':latitude,'Longitude':longitude}\n",
        "            st.subheader('✅ **Latitude & Longitude of '+prediction+'**')\n",
        "            st.json(loc_dict)\n",
        "            data = [[latitude,longitude]]\n",
        "            df = pd.DataFrame(data, columns=['lat', 'lon'])\n",
        "            st.subheader('✅ **'+prediction +' on the Map**'+'🗺️')\n",
        "            st.map(df)\n",
        "        except Exception as e:\n",
        "            st.warning(\"No address found!!\")\n",
        "run()"
      ],
      "metadata": {
        "id": "GR_1rrCOEpkh",
        "outputId": "4f94d8f2-636d-46c9-d131-2cede381858f",
        "colab": {
          "base_uri": "https://localhost:8080/"
        }
      },
      "execution_count": 85,
      "outputs": [
        {
          "output_type": "stream",
          "name": "stdout",
          "text": [
            "Overwriting streamlit_app.py\n"
          ]
        }
      ]
    },
    {
      "cell_type": "code",
      "source": [
        "!streamlit run --server.port 80 /content/streamlit_app.py >/dev/null"
      ],
      "metadata": {
        "colab": {
          "base_uri": "https://localhost:8080/"
        },
        "id": "9I3AFslX4PRI",
        "outputId": "f3cfef19-4164-4281-fe24-df513a56fd8a"
      },
      "execution_count": null,
      "outputs": [
        {
          "metadata": {
            "tags": null
          },
          "name": "stdout",
          "output_type": "stream",
          "text": [
            "2022-06-29 11:08:39.796 INFO    numexpr.utils: NumExpr defaulting to 2 threads.\n"
          ]
        },
        {
          "metadata": {
            "tags": null
          },
          "name": "stderr",
          "output_type": "stream",
          "text": [
            "2022-06-29 11:08:55.520 t=2022-06-29T11:08:55+0000 lvl=info msg=\"join connections\" obj=join id=f8c946fab66c l=127.0.0.1:80 r=[2401:4900:1c1a:ab4:20bf:5f84:f40b:a5c6]:52708\n",
            "2022-06-29 11:08:55.983 t=2022-06-29T11:08:55+0000 lvl=info msg=\"join connections\" obj=join id=6b82b860cab0 l=127.0.0.1:80 r=[2401:4900:1c1a:ab4:20bf:5f84:f40b:a5c6]:52708\n",
            "2022-06-29 11:08:55.988 t=2022-06-29T11:08:55+0000 lvl=info msg=\"join connections\" obj=join id=8e09106b27a8 l=127.0.0.1:80 r=[2401:4900:1c1a:ab4:20bf:5f84:f40b:a5c6]:52708\n",
            "2022-06-29 11:08:55.993 t=2022-06-29T11:08:55+0000 lvl=info msg=\"join connections\" obj=join id=d97b50436d44 l=127.0.0.1:80 r=[2401:4900:1c1a:ab4:20bf:5f84:f40b:a5c6]:52708\n",
            "2022-06-29 11:08:56.074 t=2022-06-29T11:08:56+0000 lvl=info msg=\"join connections\" obj=join id=fa2266b03282 l=127.0.0.1:80 r=[2401:4900:1c1a:ab4:20bf:5f84:f40b:a5c6]:52708\n",
            "2022-06-29 11:08:56.082 t=2022-06-29T11:08:56+0000 lvl=info msg=\"join connections\" obj=join id=d2309cbc3567 l=127.0.0.1:80 r=[2401:4900:1c1a:ab4:20bf:5f84:f40b:a5c6]:52708\n",
            "2022-06-29 11:08:56.088 t=2022-06-29T11:08:56+0000 lvl=info msg=\"join connections\" obj=join id=4addf0c68def l=127.0.0.1:80 r=[2401:4900:1c1a:ab4:20bf:5f84:f40b:a5c6]:52708\n",
            "2022-06-29 11:08:56.094 t=2022-06-29T11:08:56+0000 lvl=info msg=\"join connections\" obj=join id=4b8b16d52531 l=127.0.0.1:80 r=[2401:4900:1c1a:ab4:20bf:5f84:f40b:a5c6]:52708\n",
            "2022-06-29 11:08:56.099 t=2022-06-29T11:08:56+0000 lvl=info msg=\"join connections\" obj=join id=1cf96cd787d7 l=127.0.0.1:80 r=[2401:4900:1c1a:ab4:20bf:5f84:f40b:a5c6]:52708\n",
            "2022-06-29 11:08:56.104 t=2022-06-29T11:08:56+0000 lvl=info msg=\"join connections\" obj=join id=547a44f38c13 l=127.0.0.1:80 r=[2401:4900:1c1a:ab4:20bf:5f84:f40b:a5c6]:52708\n",
            "2022-06-29 11:09:00.051 t=2022-06-29T11:09:00+0000 lvl=info msg=\"join connections\" obj=join id=e6d6038c0325 l=127.0.0.1:80 r=[2401:4900:1c1a:ab4:20bf:5f84:f40b:a5c6]:52721\n",
            "2022-06-29 11:09:04.223 t=2022-06-29T11:09:04+0000 lvl=info msg=\"join connections\" obj=join id=05f2a7051480 l=127.0.0.1:80 r=[2401:4900:1c1a:ab4:20bf:5f84:f40b:a5c6]:52708\n"
          ]
        },
        {
          "metadata": {
            "tags": null
          },
          "name": "stdout",
          "output_type": "stream",
          "text": [
            "2022-06-29 11:10:18.883 Uncaught app exception\n",
            "Traceback (most recent call last):\n",
            "  File \"/usr/local/lib/python3.7/dist-packages/streamlit/scriptrunner/script_runner.py\", line 554, in _run_script\n",
            "    exec(code, module.__dict__)\n",
            "  File \"/content/streamlit_app.py\", line 61, in <module>\n",
            "    run()\n",
            "  File \"/content/streamlit_app.py\", line 44, in run\n",
            "    with open(save_image_path, \"wb\") as f:\n",
            "FileNotFoundError: [Errno 2] No such file or directory: './Uploaded_Images/download.jpg'\n",
            "2022-06-29 11:11:49.690 Uncaught app exception\n",
            "Traceback (most recent call last):\n",
            "  File \"/usr/local/lib/python3.7/dist-packages/streamlit/scriptrunner/script_runner.py\", line 554, in _run_script\n",
            "    exec(code, module.__dict__)\n",
            "  File \"/content/streamlit_app.py\", line 61, in <module>\n",
            "    run()\n",
            "  File \"/content/streamlit_app.py\", line 44, in run\n",
            "    with open(save_image_path, \"wb\") as f:\n",
            "FileNotFoundError: [Errno 2] No such file or directory: './Uploaded_Images/download.jpg'\n",
            "2022-06-29 11:16:07.731 Using /tmp/tfhub_modules to cache modules.\n",
            "2022-06-29 11:16:07.733 Downloading TF-Hub Module 'https://tfhub.dev/google/on_device_vision/classifier/landmarks_classifier_asia_V1/1'.\n",
            "2022-06-29 11:16:08.905 Downloaded https://tfhub.dev/google/on_device_vision/classifier/landmarks_classifier_asia_V1/1, Total size: 40.82MB\n",
            "2022-06-29 11:16:08.905 Downloaded TF-Hub Module 'https://tfhub.dev/google/on_device_vision/classifier/landmarks_classifier_asia_V1/1'.\n",
            "2022-06-29 11:16:09.492 Saver not created because there are no variables in the graph to restore\n",
            "2022-06-29 11:16:09.689213: E tensorflow/stream_executor/cuda/cuda_driver.cc:271] failed call to cuInit: CUDA_ERROR_NO_DEVICE: no CUDA-capable device is detected\n"
          ]
        },
        {
          "metadata": {
            "tags": null
          },
          "name": "stderr",
          "output_type": "stream",
          "text": [
            "2022-06-29 11:16:13.747 t=2022-06-29T11:16:13+0000 lvl=info msg=\"join connections\" obj=join id=406706453201 l=127.0.0.1:80 r=[2401:4900:1c1a:ab4:20bf:5f84:f40b:a5c6]:52708\n",
            "2022-06-29 11:16:13.751 t=2022-06-29T11:16:13+0000 lvl=info msg=\"join connections\" obj=join id=b01e9355702b l=127.0.0.1:80 r=[2401:4900:1c1a:ab4:20bf:5f84:f40b:a5c6]:52708\n",
            "2022-06-29 11:16:13.839 t=2022-06-29T11:16:13+0000 lvl=info msg=\"join connections\" obj=join id=4a096fa0d68a l=127.0.0.1:80 r=[2401:4900:1c1a:ab4:20bf:5f84:f40b:a5c6]:52708\n"
          ]
        }
      ]
    },
    {
      "cell_type": "code",
      "source": [
        "get_ipython().system_raw('./ngrok http 8501 &')"
      ],
      "metadata": {
        "id": "5mSY2xVF4The"
      },
      "execution_count": 22,
      "outputs": []
    },
    {
      "cell_type": "code",
      "source": [
        "!curl -s http://localhost:4040/api/tunnels | python3 -c \\\n",
        "    'import sys, json; print(\"Execute the next cell and the go to the following URL: \" +json.load(sys.stdin)[\"tunnels\"][0][\"public_url\"])'"
      ],
      "metadata": {
        "colab": {
          "base_uri": "https://localhost:8080/"
        },
        "id": "JfpSmSDg4Vv_",
        "outputId": "094e5759-f83f-49c4-e5cf-17f919770852"
      },
      "execution_count": 23,
      "outputs": [
        {
          "output_type": "stream",
          "name": "stdout",
          "text": [
            "Execute the next cell and the go to the following URL: https://6239-34-91-216-116.ngrok.io\n"
          ]
        }
      ]
    },
    {
      "cell_type": "code",
      "source": [
        ""
      ],
      "metadata": {
        "id": "zhVVO4dA4XKW"
      },
      "execution_count": null,
      "outputs": []
    },
    {
      "cell_type": "code",
      "source": [
        "!streamlit run /content/LandMark_Detection/LM_Detection.py"
      ],
      "metadata": {
        "colab": {
          "base_uri": "https://localhost:8080/"
        },
        "id": "gcJB6spS4XSF",
        "outputId": "7fd9bdf7-896c-455b-fbef-29165f4967af"
      },
      "execution_count": 24,
      "outputs": [
        {
          "output_type": "stream",
          "name": "stdout",
          "text": [
            "2022-06-29 10:17:33.086 INFO    numexpr.utils: NumExpr defaulting to 2 threads.\n",
            "\u001b[0m\n",
            "\u001b[34m\u001b[1m  You can now view your Streamlit app in your browser.\u001b[0m\n",
            "\u001b[0m\n",
            "\u001b[34m  Network URL: \u001b[0m\u001b[1mhttp://172.28.0.2:8501\u001b[0m\n",
            "\u001b[34m  External URL: \u001b[0m\u001b[1mhttp://34.91.216.116:8501\u001b[0m\n",
            "\u001b[0m\n",
            "\u001b[34m  Stopping...\u001b[0m\n",
            "^C\n"
          ]
        }
      ]
    },
    {
      "cell_type": "code",
      "source": [
        "!pip install fastbook==0.0.17"
      ],
      "metadata": {
        "colab": {
          "base_uri": "https://localhost:8080/",
          "height": 1000
        },
        "id": "b60W06yy7AKr",
        "outputId": "70a53846-73af-44fa-bc3a-75c57c3dcb4b"
      },
      "execution_count": 2,
      "outputs": [
        {
          "output_type": "stream",
          "name": "stdout",
          "text": [
            "Looking in indexes: https://pypi.org/simple, https://us-python.pkg.dev/colab-wheels/public/simple/\n",
            "Collecting fastbook==0.0.17\n",
            "  Downloading fastbook-0.0.17-py3-none-any.whl (719 kB)\n",
            "\u001b[K     |████████████████████████████████| 719 kB 13.4 MB/s \n",
            "\u001b[?25hCollecting nbdev>=0.2.38\n",
            "  Downloading nbdev-1.2.10-py3-none-any.whl (49 kB)\n",
            "\u001b[K     |████████████████████████████████| 49 kB 5.8 MB/s \n",
            "\u001b[?25hRequirement already satisfied: pandas in /usr/local/lib/python3.7/dist-packages (from fastbook==0.0.17) (1.3.5)\n",
            "Collecting sentencepiece\n",
            "  Downloading sentencepiece-0.1.96-cp37-cp37m-manylinux_2_17_x86_64.manylinux2014_x86_64.whl (1.2 MB)\n",
            "\u001b[K     |████████████████████████████████| 1.2 MB 63.4 MB/s \n",
            "\u001b[?25hRequirement already satisfied: pip in /usr/local/lib/python3.7/dist-packages (from fastbook==0.0.17) (21.1.3)\n",
            "Requirement already satisfied: requests in /usr/local/lib/python3.7/dist-packages (from fastbook==0.0.17) (2.23.0)\n",
            "Requirement already satisfied: packaging in /usr/local/lib/python3.7/dist-packages (from fastbook==0.0.17) (21.3)\n",
            "Requirement already satisfied: fastai>=2.5 in /usr/local/lib/python3.7/dist-packages (from fastbook==0.0.17) (2.6.3)\n",
            "Requirement already satisfied: ipywidgets in /usr/local/lib/python3.7/dist-packages (from fastbook==0.0.17) (7.7.0)\n",
            "Requirement already satisfied: fastcore<1.5,>=1.3.27 in /usr/local/lib/python3.7/dist-packages (from fastai>=2.5->fastbook==0.0.17) (1.4.4)\n",
            "Requirement already satisfied: torchvision>=0.8.2 in /usr/local/lib/python3.7/dist-packages (from fastai>=2.5->fastbook==0.0.17) (0.12.0+cu113)\n",
            "Requirement already satisfied: matplotlib in /usr/local/lib/python3.7/dist-packages (from fastai>=2.5->fastbook==0.0.17) (3.2.2)\n",
            "Requirement already satisfied: scipy in /usr/local/lib/python3.7/dist-packages (from fastai>=2.5->fastbook==0.0.17) (1.4.1)\n",
            "Requirement already satisfied: pillow>6.0.0 in /usr/local/lib/python3.7/dist-packages (from fastai>=2.5->fastbook==0.0.17) (7.1.2)\n",
            "Requirement already satisfied: fastdownload<2,>=0.0.5 in /usr/local/lib/python3.7/dist-packages (from fastai>=2.5->fastbook==0.0.17) (0.0.6)\n",
            "Requirement already satisfied: fastprogress>=0.2.4 in /usr/local/lib/python3.7/dist-packages (from fastai>=2.5->fastbook==0.0.17) (1.0.2)\n",
            "Requirement already satisfied: scikit-learn in /usr/local/lib/python3.7/dist-packages (from fastai>=2.5->fastbook==0.0.17) (1.0.2)\n",
            "Requirement already satisfied: torch<1.12,>=1.7.0 in /usr/local/lib/python3.7/dist-packages (from fastai>=2.5->fastbook==0.0.17) (1.11.0+cu113)\n",
            "Requirement already satisfied: pyyaml in /usr/local/lib/python3.7/dist-packages (from fastai>=2.5->fastbook==0.0.17) (3.13)\n",
            "Requirement already satisfied: spacy<4 in /usr/local/lib/python3.7/dist-packages (from fastai>=2.5->fastbook==0.0.17) (3.3.1)\n",
            "Collecting fastrelease\n",
            "  Downloading fastrelease-0.1.16-py3-none-any.whl (13 kB)\n",
            "Requirement already satisfied: Jinja2 in /usr/local/lib/python3.7/dist-packages (from nbdev>=0.2.38->fastbook==0.0.17) (2.11.3)\n",
            "Requirement already satisfied: jupyter in /usr/local/lib/python3.7/dist-packages (from nbdev>=0.2.38->fastbook==0.0.17) (1.0.0)\n",
            "Requirement already satisfied: nbformat>=4.4.0 in /usr/local/lib/python3.7/dist-packages (from nbdev>=0.2.38->fastbook==0.0.17) (5.4.0)\n",
            "Requirement already satisfied: jupyter-client<8 in /usr/local/lib/python3.7/dist-packages (from nbdev>=0.2.38->fastbook==0.0.17) (5.3.5)\n",
            "Collecting nbconvert>=6.1\n",
            "  Downloading nbconvert-6.5.0-py3-none-any.whl (561 kB)\n",
            "\u001b[K     |████████████████████████████████| 561 kB 54.4 MB/s \n",
            "\u001b[?25hCollecting ghapi\n",
            "  Downloading ghapi-0.1.21-py3-none-any.whl (53 kB)\n",
            "\u001b[K     |████████████████████████████████| 53 kB 2.8 MB/s \n",
            "\u001b[?25hRequirement already satisfied: ipykernel in /usr/local/lib/python3.7/dist-packages (from nbdev>=0.2.38->fastbook==0.0.17) (4.10.1)\n",
            "Requirement already satisfied: jupyter-core>=4.6.0 in /usr/local/lib/python3.7/dist-packages (from jupyter-client<8->nbdev>=0.2.38->fastbook==0.0.17) (4.10.0)\n",
            "Requirement already satisfied: python-dateutil>=2.1 in /usr/local/lib/python3.7/dist-packages (from jupyter-client<8->nbdev>=0.2.38->fastbook==0.0.17) (2.8.2)\n",
            "Requirement already satisfied: traitlets in /usr/local/lib/python3.7/dist-packages (from jupyter-client<8->nbdev>=0.2.38->fastbook==0.0.17) (5.1.1)\n",
            "Requirement already satisfied: tornado>=4.1 in /usr/local/lib/python3.7/dist-packages (from jupyter-client<8->nbdev>=0.2.38->fastbook==0.0.17) (5.1.1)\n",
            "Requirement already satisfied: pyzmq>=13 in /usr/local/lib/python3.7/dist-packages (from jupyter-client<8->nbdev>=0.2.38->fastbook==0.0.17) (23.1.0)\n",
            "Collecting Jinja2\n",
            "  Downloading Jinja2-3.1.2-py3-none-any.whl (133 kB)\n",
            "\u001b[K     |████████████████████████████████| 133 kB 67.2 MB/s \n",
            "\u001b[?25hRequirement already satisfied: pandocfilters>=1.4.1 in /usr/local/lib/python3.7/dist-packages (from nbconvert>=6.1->nbdev>=0.2.38->fastbook==0.0.17) (1.5.0)\n",
            "Requirement already satisfied: jupyterlab-pygments in /usr/local/lib/python3.7/dist-packages (from nbconvert>=6.1->nbdev>=0.2.38->fastbook==0.0.17) (0.2.2)\n",
            "Requirement already satisfied: nbclient>=0.5.0 in /usr/local/lib/python3.7/dist-packages (from nbconvert>=6.1->nbdev>=0.2.38->fastbook==0.0.17) (0.6.4)\n",
            "Requirement already satisfied: bleach in /usr/local/lib/python3.7/dist-packages (from nbconvert>=6.1->nbdev>=0.2.38->fastbook==0.0.17) (5.0.0)\n",
            "Requirement already satisfied: pygments>=2.4.1 in /usr/local/lib/python3.7/dist-packages (from nbconvert>=6.1->nbdev>=0.2.38->fastbook==0.0.17) (2.6.1)\n",
            "Requirement already satisfied: entrypoints>=0.2.2 in /usr/local/lib/python3.7/dist-packages (from nbconvert>=6.1->nbdev>=0.2.38->fastbook==0.0.17) (0.4)\n",
            "Requirement already satisfied: beautifulsoup4 in /usr/local/lib/python3.7/dist-packages (from nbconvert>=6.1->nbdev>=0.2.38->fastbook==0.0.17) (4.6.3)\n",
            "Requirement already satisfied: MarkupSafe>=2.0 in /usr/local/lib/python3.7/dist-packages (from nbconvert>=6.1->nbdev>=0.2.38->fastbook==0.0.17) (2.0.1)\n",
            "Requirement already satisfied: defusedxml in /usr/local/lib/python3.7/dist-packages (from nbconvert>=6.1->nbdev>=0.2.38->fastbook==0.0.17) (0.7.1)\n",
            "Requirement already satisfied: tinycss2 in /usr/local/lib/python3.7/dist-packages (from nbconvert>=6.1->nbdev>=0.2.38->fastbook==0.0.17) (1.1.1)\n",
            "Requirement already satisfied: mistune<2,>=0.8.1 in /usr/local/lib/python3.7/dist-packages (from nbconvert>=6.1->nbdev>=0.2.38->fastbook==0.0.17) (0.8.4)\n",
            "Requirement already satisfied: nest-asyncio in /usr/local/lib/python3.7/dist-packages (from nbclient>=0.5.0->nbconvert>=6.1->nbdev>=0.2.38->fastbook==0.0.17) (1.5.5)\n",
            "Collecting traitlets\n",
            "  Downloading traitlets-5.3.0-py3-none-any.whl (106 kB)\n",
            "\u001b[K     |████████████████████████████████| 106 kB 25.8 MB/s \n",
            "\u001b[?25hCollecting jupyter-client<8\n",
            "  Downloading jupyter_client-7.3.4-py3-none-any.whl (132 kB)\n",
            "\u001b[K     |████████████████████████████████| 132 kB 76.7 MB/s \n",
            "\u001b[?25hCollecting tornado>=4.1\n",
            "  Downloading tornado-6.1-cp37-cp37m-manylinux2010_x86_64.whl (428 kB)\n",
            "\u001b[K     |████████████████████████████████| 428 kB 67.0 MB/s \n",
            "\u001b[?25hRequirement already satisfied: fastjsonschema in /usr/local/lib/python3.7/dist-packages (from nbformat>=4.4.0->nbdev>=0.2.38->fastbook==0.0.17) (2.15.3)\n",
            "Requirement already satisfied: jsonschema>=2.6 in /usr/local/lib/python3.7/dist-packages (from nbformat>=4.4.0->nbdev>=0.2.38->fastbook==0.0.17) (4.3.3)\n",
            "Requirement already satisfied: pyrsistent!=0.17.0,!=0.17.1,!=0.17.2,>=0.14.0 in /usr/local/lib/python3.7/dist-packages (from jsonschema>=2.6->nbformat>=4.4.0->nbdev>=0.2.38->fastbook==0.0.17) (0.18.1)\n",
            "Requirement already satisfied: typing-extensions in /usr/local/lib/python3.7/dist-packages (from jsonschema>=2.6->nbformat>=4.4.0->nbdev>=0.2.38->fastbook==0.0.17) (4.1.1)\n",
            "Requirement already satisfied: importlib-resources>=1.4.0 in /usr/local/lib/python3.7/dist-packages (from jsonschema>=2.6->nbformat>=4.4.0->nbdev>=0.2.38->fastbook==0.0.17) (5.7.1)\n",
            "Requirement already satisfied: importlib-metadata in /usr/local/lib/python3.7/dist-packages (from jsonschema>=2.6->nbformat>=4.4.0->nbdev>=0.2.38->fastbook==0.0.17) (4.11.4)\n",
            "Requirement already satisfied: attrs>=17.4.0 in /usr/local/lib/python3.7/dist-packages (from jsonschema>=2.6->nbformat>=4.4.0->nbdev>=0.2.38->fastbook==0.0.17) (21.4.0)\n",
            "Requirement already satisfied: zipp>=3.1.0 in /usr/local/lib/python3.7/dist-packages (from importlib-resources>=1.4.0->jsonschema>=2.6->nbformat>=4.4.0->nbdev>=0.2.38->fastbook==0.0.17) (3.8.0)\n",
            "Requirement already satisfied: six>=1.5 in /usr/local/lib/python3.7/dist-packages (from python-dateutil>=2.1->jupyter-client<8->nbdev>=0.2.38->fastbook==0.0.17) (1.15.0)\n",
            "Requirement already satisfied: numpy>=1.15.0 in /usr/local/lib/python3.7/dist-packages (from spacy<4->fastai>=2.5->fastbook==0.0.17) (1.21.6)\n",
            "Requirement already satisfied: murmurhash<1.1.0,>=0.28.0 in /usr/local/lib/python3.7/dist-packages (from spacy<4->fastai>=2.5->fastbook==0.0.17) (1.0.7)\n",
            "Requirement already satisfied: pathy>=0.3.5 in /usr/local/lib/python3.7/dist-packages (from spacy<4->fastai>=2.5->fastbook==0.0.17) (0.6.1)\n",
            "Requirement already satisfied: pydantic!=1.8,!=1.8.1,<1.9.0,>=1.7.4 in /usr/local/lib/python3.7/dist-packages (from spacy<4->fastai>=2.5->fastbook==0.0.17) (1.8.2)\n",
            "Requirement already satisfied: catalogue<2.1.0,>=2.0.6 in /usr/local/lib/python3.7/dist-packages (from spacy<4->fastai>=2.5->fastbook==0.0.17) (2.0.7)\n",
            "Requirement already satisfied: cymem<2.1.0,>=2.0.2 in /usr/local/lib/python3.7/dist-packages (from spacy<4->fastai>=2.5->fastbook==0.0.17) (2.0.6)\n",
            "Requirement already satisfied: spacy-legacy<3.1.0,>=3.0.9 in /usr/local/lib/python3.7/dist-packages (from spacy<4->fastai>=2.5->fastbook==0.0.17) (3.0.9)\n",
            "Requirement already satisfied: spacy-loggers<2.0.0,>=1.0.0 in /usr/local/lib/python3.7/dist-packages (from spacy<4->fastai>=2.5->fastbook==0.0.17) (1.0.2)\n",
            "Requirement already satisfied: wasabi<1.1.0,>=0.9.1 in /usr/local/lib/python3.7/dist-packages (from spacy<4->fastai>=2.5->fastbook==0.0.17) (0.9.1)\n",
            "Requirement already satisfied: langcodes<4.0.0,>=3.2.0 in /usr/local/lib/python3.7/dist-packages (from spacy<4->fastai>=2.5->fastbook==0.0.17) (3.3.0)\n",
            "Requirement already satisfied: srsly<3.0.0,>=2.4.3 in /usr/local/lib/python3.7/dist-packages (from spacy<4->fastai>=2.5->fastbook==0.0.17) (2.4.3)\n",
            "Requirement already satisfied: preshed<3.1.0,>=3.0.2 in /usr/local/lib/python3.7/dist-packages (from spacy<4->fastai>=2.5->fastbook==0.0.17) (3.0.6)\n",
            "Requirement already satisfied: setuptools in /usr/local/lib/python3.7/dist-packages (from spacy<4->fastai>=2.5->fastbook==0.0.17) (57.4.0)\n",
            "Requirement already satisfied: thinc<8.1.0,>=8.0.14 in /usr/local/lib/python3.7/dist-packages (from spacy<4->fastai>=2.5->fastbook==0.0.17) (8.0.17)\n",
            "Requirement already satisfied: blis<0.8.0,>=0.4.0 in /usr/local/lib/python3.7/dist-packages (from spacy<4->fastai>=2.5->fastbook==0.0.17) (0.7.7)\n",
            "Requirement already satisfied: typer<0.5.0,>=0.3.0 in /usr/local/lib/python3.7/dist-packages (from spacy<4->fastai>=2.5->fastbook==0.0.17) (0.4.1)\n",
            "Requirement already satisfied: tqdm<5.0.0,>=4.38.0 in /usr/local/lib/python3.7/dist-packages (from spacy<4->fastai>=2.5->fastbook==0.0.17) (4.64.0)\n",
            "Requirement already satisfied: pyparsing!=3.0.5,>=2.0.2 in /usr/local/lib/python3.7/dist-packages (from packaging->fastbook==0.0.17) (3.0.9)\n",
            "Requirement already satisfied: smart-open<6.0.0,>=5.0.0 in /usr/local/lib/python3.7/dist-packages (from pathy>=0.3.5->spacy<4->fastai>=2.5->fastbook==0.0.17) (5.2.1)\n",
            "Requirement already satisfied: urllib3!=1.25.0,!=1.25.1,<1.26,>=1.21.1 in /usr/local/lib/python3.7/dist-packages (from requests->fastbook==0.0.17) (1.24.3)\n",
            "Requirement already satisfied: certifi>=2017.4.17 in /usr/local/lib/python3.7/dist-packages (from requests->fastbook==0.0.17) (2022.6.15)\n",
            "Requirement already satisfied: chardet<4,>=3.0.2 in /usr/local/lib/python3.7/dist-packages (from requests->fastbook==0.0.17) (3.0.4)\n",
            "Requirement already satisfied: idna<3,>=2.5 in /usr/local/lib/python3.7/dist-packages (from requests->fastbook==0.0.17) (2.10)\n",
            "Requirement already satisfied: click<9.0.0,>=7.1.1 in /usr/local/lib/python3.7/dist-packages (from typer<0.5.0,>=0.3.0->spacy<4->fastai>=2.5->fastbook==0.0.17) (7.1.2)\n",
            "Requirement already satisfied: webencodings in /usr/local/lib/python3.7/dist-packages (from bleach->nbconvert>=6.1->nbdev>=0.2.38->fastbook==0.0.17) (0.5.1)\n",
            "Requirement already satisfied: ipython>=4.0.0 in /usr/local/lib/python3.7/dist-packages (from ipykernel->nbdev>=0.2.38->fastbook==0.0.17) (5.5.0)\n",
            "Requirement already satisfied: pickleshare in /usr/local/lib/python3.7/dist-packages (from ipython>=4.0.0->ipykernel->nbdev>=0.2.38->fastbook==0.0.17) (0.7.5)\n",
            "Requirement already satisfied: prompt-toolkit<2.0.0,>=1.0.4 in /usr/local/lib/python3.7/dist-packages (from ipython>=4.0.0->ipykernel->nbdev>=0.2.38->fastbook==0.0.17) (1.0.18)\n",
            "Requirement already satisfied: decorator in /usr/local/lib/python3.7/dist-packages (from ipython>=4.0.0->ipykernel->nbdev>=0.2.38->fastbook==0.0.17) (4.4.2)\n",
            "Requirement already satisfied: simplegeneric>0.8 in /usr/local/lib/python3.7/dist-packages (from ipython>=4.0.0->ipykernel->nbdev>=0.2.38->fastbook==0.0.17) (0.8.1)\n",
            "Requirement already satisfied: pexpect in /usr/local/lib/python3.7/dist-packages (from ipython>=4.0.0->ipykernel->nbdev>=0.2.38->fastbook==0.0.17) (4.8.0)\n",
            "Requirement already satisfied: wcwidth in /usr/local/lib/python3.7/dist-packages (from prompt-toolkit<2.0.0,>=1.0.4->ipython>=4.0.0->ipykernel->nbdev>=0.2.38->fastbook==0.0.17) (0.2.5)\n",
            "Requirement already satisfied: widgetsnbextension~=3.6.0 in /usr/local/lib/python3.7/dist-packages (from ipywidgets->fastbook==0.0.17) (3.6.0)\n",
            "Requirement already satisfied: jupyterlab-widgets>=1.0.0 in /usr/local/lib/python3.7/dist-packages (from ipywidgets->fastbook==0.0.17) (1.1.0)\n",
            "Requirement already satisfied: ipython-genutils~=0.2.0 in /usr/local/lib/python3.7/dist-packages (from ipywidgets->fastbook==0.0.17) (0.2.0)\n",
            "Requirement already satisfied: notebook>=4.4.1 in /usr/local/lib/python3.7/dist-packages (from widgetsnbextension~=3.6.0->ipywidgets->fastbook==0.0.17) (5.3.1)\n",
            "Requirement already satisfied: Send2Trash in /usr/local/lib/python3.7/dist-packages (from notebook>=4.4.1->widgetsnbextension~=3.6.0->ipywidgets->fastbook==0.0.17) (1.8.0)\n",
            "Requirement already satisfied: terminado>=0.8.1 in /usr/local/lib/python3.7/dist-packages (from notebook>=4.4.1->widgetsnbextension~=3.6.0->ipywidgets->fastbook==0.0.17) (0.13.3)\n",
            "Requirement already satisfied: ptyprocess in /usr/local/lib/python3.7/dist-packages (from terminado>=0.8.1->notebook>=4.4.1->widgetsnbextension~=3.6.0->ipywidgets->fastbook==0.0.17) (0.7.0)\n",
            "Requirement already satisfied: jupyter-console in /usr/local/lib/python3.7/dist-packages (from jupyter->nbdev>=0.2.38->fastbook==0.0.17) (5.2.0)\n",
            "Requirement already satisfied: qtconsole in /usr/local/lib/python3.7/dist-packages (from jupyter->nbdev>=0.2.38->fastbook==0.0.17) (5.3.1)\n",
            "Requirement already satisfied: kiwisolver>=1.0.1 in /usr/local/lib/python3.7/dist-packages (from matplotlib->fastai>=2.5->fastbook==0.0.17) (1.4.3)\n",
            "Requirement already satisfied: cycler>=0.10 in /usr/local/lib/python3.7/dist-packages (from matplotlib->fastai>=2.5->fastbook==0.0.17) (0.11.0)\n",
            "Requirement already satisfied: pytz>=2017.3 in /usr/local/lib/python3.7/dist-packages (from pandas->fastbook==0.0.17) (2022.1)\n",
            "Requirement already satisfied: qtpy>=2.0.1 in /usr/local/lib/python3.7/dist-packages (from qtconsole->jupyter->nbdev>=0.2.38->fastbook==0.0.17) (2.1.0)\n",
            "Requirement already satisfied: threadpoolctl>=2.0.0 in /usr/local/lib/python3.7/dist-packages (from scikit-learn->fastai>=2.5->fastbook==0.0.17) (3.1.0)\n",
            "Requirement already satisfied: joblib>=0.11 in /usr/local/lib/python3.7/dist-packages (from scikit-learn->fastai>=2.5->fastbook==0.0.17) (1.1.0)\n",
            "Installing collected packages: traitlets, tornado, jupyter-client, Jinja2, nbconvert, ghapi, fastrelease, sentencepiece, nbdev, fastbook\n",
            "  Attempting uninstall: traitlets\n",
            "    Found existing installation: traitlets 5.1.1\n",
            "    Uninstalling traitlets-5.1.1:\n",
            "      Successfully uninstalled traitlets-5.1.1\n",
            "  Attempting uninstall: tornado\n",
            "    Found existing installation: tornado 5.1.1\n",
            "    Uninstalling tornado-5.1.1:\n",
            "      Successfully uninstalled tornado-5.1.1\n",
            "  Attempting uninstall: jupyter-client\n",
            "    Found existing installation: jupyter-client 5.3.5\n",
            "    Uninstalling jupyter-client-5.3.5:\n",
            "      Successfully uninstalled jupyter-client-5.3.5\n",
            "  Attempting uninstall: Jinja2\n",
            "    Found existing installation: Jinja2 2.11.3\n",
            "    Uninstalling Jinja2-2.11.3:\n",
            "      Successfully uninstalled Jinja2-2.11.3\n",
            "  Attempting uninstall: nbconvert\n",
            "    Found existing installation: nbconvert 5.6.1\n",
            "    Uninstalling nbconvert-5.6.1:\n",
            "      Successfully uninstalled nbconvert-5.6.1\n",
            "\u001b[31mERROR: pip's dependency resolver does not currently take into account all the packages that are installed. This behaviour is the source of the following dependency conflicts.\n",
            "google-colab 1.0.0 requires tornado~=5.1.0; python_version >= \"3.0\", but you have tornado 6.1 which is incompatible.\n",
            "flask 1.1.4 requires Jinja2<3.0,>=2.10.1, but you have jinja2 3.1.2 which is incompatible.\n",
            "datascience 0.10.6 requires folium==0.2.1, but you have folium 0.8.3 which is incompatible.\u001b[0m\n",
            "Successfully installed Jinja2-3.1.2 fastbook-0.0.17 fastrelease-0.1.16 ghapi-0.1.21 jupyter-client-7.3.4 nbconvert-6.5.0 nbdev-1.2.10 sentencepiece-0.1.96 tornado-6.1 traitlets-5.3.0\n"
          ]
        },
        {
          "output_type": "display_data",
          "data": {
            "application/vnd.colab-display-data+json": {
              "pip_warning": {
                "packages": [
                  "tornado"
                ]
              }
            }
          },
          "metadata": {}
        }
      ]
    },
    {
      "cell_type": "code",
      "source": [
        "import streamlit as st\n",
        "import PIL\n",
        "import tensorflow as tf\n",
        "import tensorflow_hub as hub\n",
        "import numpy as np\n",
        "import pandas as pd\n",
        "from geopy.geocoders import Nominatim\n",
        "\n",
        "model_url = 'https://tfhub.dev/google/on_device_vision/classifier/landmarks_classifier_asia_V1/1'\n",
        "# model_url = 'on_device_vision_classifier_landmarks_classifier_asia_V1_1'\n",
        "\n",
        "# label_url = 'https://www.gstatic.com/aihub/tfhub/labelmaps/landmarks_classifier_asia_V1_label_map.csv'\n",
        "labels = '/content/LandMark_Detection/landmarks_classifier_asia_V1_label_map.csv'\n",
        "df = pd.read_csv(labels)\n",
        "labels = dict(zip(df.id, df.name))\n",
        "\n",
        "def image_processing(image):\n",
        "    img_shape = (321, 321)\n",
        "    classifier = tf.keras.Sequential(\n",
        "        [hub.KerasLayer(model_url, input_shape=img_shape + (3,), output_key=\"predictions:logits\")])\n",
        "    img = PIL.Image.open(image)\n",
        "    img = img.resize(img_shape)\n",
        "    img1 = img\n",
        "    img = np.array(img) / 255.0\n",
        "    img = img[np.newaxis]\n",
        "    result = classifier.predict(img)\n",
        "    return labels[np.argmax(result)],img1\n",
        "\n",
        "def get_map(loc):\n",
        "    geolocator = Nominatim(user_agent=\"Your_Name\")\n",
        "    location = geolocator.geocode(loc)\n",
        "    return location.address,location.latitude, location.longitude\n",
        "\n",
        "def run():\n",
        "    st.title(\"Landmark Recognition\")\n",
        "    img = PIL.Image.open('/content/LandMark_Detection/logo.png')\n",
        "    img = img.resize((256,256))\n",
        "    st.image(img)\n",
        "    img_file = st.file_uploader(\"Choose your Image\", type=['png', 'jpg'])\n",
        "    if img_file is not None:\n",
        "        save_image_path = './Uploaded_Images/' + img_file.name\n",
        "        with open(save_image_path, \"wb\") as f:\n",
        "            f.write(img_file.getbuffer())\n",
        "        prediction,image = image_processing(save_image_path)\n",
        "        st.image(image)\n",
        "        st.header(\"📍 **Predicted Landmark is: \" + prediction + '**')\n",
        "        try:\n",
        "            address, latitude, longitude = get_map(prediction)\n",
        "            st.success('Address: '+address )\n",
        "            loc_dict = {'Latitude':latitude,'Longitude':longitude}\n",
        "            st.subheader('✅ **Latitude & Longitude of '+prediction+'**')\n",
        "            st.json(loc_dict)\n",
        "            data = [[latitude,longitude]]\n",
        "            df = pd.DataFrame(data, columns=['lat', 'lon'])\n",
        "            st.subheader('✅ **'+prediction +' on the Map**'+'🗺️')\n",
        "            st.map(df)\n",
        "        except Exception as e:\n",
        "            st.warning(\"No address found!!\")\n",
        "run()"
      ],
      "metadata": {
        "id": "_3TnaHrG5V5T"
      },
      "execution_count": 25,
      "outputs": []
    }
  ]
}